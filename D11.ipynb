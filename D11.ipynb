{
 "cells": [
  {
   "cell_type": "code",
   "execution_count": null,
   "metadata": {
    "dotnet_interactive": {
     "language": "fsharp"
    }
   },
   "outputs": [
    {
     "data": {
      "text/html": [
       "<table><thead><tr><th><i>index</i></th><th>value</th></tr></thead><tbody><tr><td>0</td><td><div class=\"dni-plaintext\">[ 5, 4, 8, 3, 1, 4, 3, 2, 2, 3 ]</div></td></tr><tr><td>1</td><td><div class=\"dni-plaintext\">[ 2, 7, 4, 5, 8, 5, 4, 7, 1, 1 ]</div></td></tr><tr><td>2</td><td><div class=\"dni-plaintext\">[ 5, 2, 6, 4, 5, 5, 6, 1, 7, 3 ]</div></td></tr><tr><td>3</td><td><div class=\"dni-plaintext\">[ 6, 1, 4, 1, 3, 3, 6, 1, 4, 6 ]</div></td></tr><tr><td>4</td><td><div class=\"dni-plaintext\">[ 6, 3, 5, 7, 3, 8, 5, 4, 7, 8 ]</div></td></tr><tr><td>5</td><td><div class=\"dni-plaintext\">[ 4, 1, 6, 7, 5, 2, 4, 6, 4, 5 ]</div></td></tr><tr><td>6</td><td><div class=\"dni-plaintext\">[ 2, 1, 7, 6, 8, 4, 1, 7, 2, 1 ]</div></td></tr><tr><td>7</td><td><div class=\"dni-plaintext\">[ 6, 8, 8, 2, 8, 8, 1, 1, 3, 4 ]</div></td></tr><tr><td>8</td><td><div class=\"dni-plaintext\">[ 4, 8, 4, 6, 8, 4, 8, 5, 5, 4 ]</div></td></tr><tr><td>9</td><td><div class=\"dni-plaintext\">[ 5, 2, 8, 3, 7, 5, 1, 5, 2, 6 ]</div></td></tr></tbody></table>"
      ]
     },
     "metadata": {},
     "output_type": "display_data"
    }
   ],
   "source": [
    "let input =\n",
    "    File.ReadAllLines @\"input/11.txt\"\n",
    "    |> Array.map (fun line -> \n",
    "        line \n",
    "        |> Seq.map (fun c -> c |> string |> int)\n",
    "        |> Array.ofSeq)\n",
    "input"
   ]
  },
  {
   "cell_type": "code",
   "execution_count": null,
   "metadata": {
    "dotnet_interactive": {
     "language": "fsharp"
    }
   },
   "outputs": [],
   "source": [
    "let h = input.Length\n",
    "let w = input[0].Length\n",
    "\n",
    "let neighbors (x, y) =\n",
    "  [ (x - 1, y - 1)\n",
    "    (x - 1, y)\n",
    "    (x - 1, y + 1)\n",
    "    (x, y - 1)\n",
    "    (x, y + 1)\n",
    "    (x + 1, y - 1)\n",
    "    (x + 1, y)\n",
    "    (x + 1, y + 1) ]\n",
    "    |> List.filter (fun (x',y') -> x' >= 0 && x' < w && y' >= 0 && y' < h)\n",
    "\n",
    "let rec afterFlash (visited: list<int*int>) (board:int array array) =\n",
    "    match visited with\n",
    "    | [] -> board\n",
    "    | _ ->\n",
    "        let currentPos = List.head visited\n",
    "        let cx,cy = currentPos\n",
    "        let FLASHED = -10\n",
    "        let newVal = board.[cy].[cx] + 1\n",
    "        if newVal > 9 then\n",
    "            // printfn \"%d,%d\" cx cy\n",
    "            let newBoard = \n",
    "                board \n",
    "                |> Array.updateAt cy \n",
    "                        (Array.updateAt cx FLASHED board.[cy])\n",
    "            let newVisited = (List.tail visited) @ neighbors currentPos\n",
    "            afterFlash newVisited newBoard\n",
    "        else\n",
    "            let newBoard = \n",
    "                board \n",
    "                |> Array.updateAt cy \n",
    "                        (Array.updateAt cx newVal board.[cy])\n",
    "            afterFlash (List.tail visited) newBoard"
   ]
  },
  {
   "cell_type": "code",
   "execution_count": null,
   "metadata": {
    "dotnet_interactive": {
     "language": "fsharp"
    }
   },
   "outputs": [
    {
     "data": {
      "text/html": [
       "<div class=\"dni-plaintext\">1656</div>"
      ]
     },
     "metadata": {},
     "output_type": "display_data"
    },
    {
     "data": {
      "text/plain": [
       "Wall time: 34.0855ms"
      ]
     },
     "metadata": {},
     "output_type": "display_data"
    }
   ],
   "source": [
    "#!time\n",
    "// Part A\n",
    "// non-optimal solution\n",
    "// scan will create all board within range first then calc sum\n",
    "[0..99]\n",
    "|> List.scan \n",
    "    (fun board _ -> \n",
    "        board \n",
    "        |> afterFlash [for x in 0..w-1 do for y in 0..h-1 -> (x,y)]\n",
    "        |> Array.map (fun row -> row |> Array.map (fun k -> if k < 0 || k > 9 then 0 else k))\n",
    "        ) input\n",
    "|> List.map (fun board -> \n",
    "                board\n",
    "                |> Array.map(fun row -> row |> Array.filter (fun k -> k = 0) |> Array.length)\n",
    "                |> Array.sum)\n",
    "|> List.sum\n"
   ]
  },
  {
   "cell_type": "code",
   "execution_count": null,
   "metadata": {
    "dotnet_interactive": {
     "language": "fsharp"
    }
   },
   "outputs": [
    {
     "data": {
      "text/html": [
       "<div class=\"dni-plaintext\">195</div>"
      ]
     },
     "metadata": {},
     "output_type": "display_data"
    },
    {
     "data": {
      "text/plain": [
       "Wall time: 37.7054ms"
      ]
     },
     "metadata": {},
     "output_type": "display_data"
    }
   ],
   "source": [
    "#!time\n",
    "// Part B\n",
    "let rec findFirstAllFlash board count = \n",
    "    let flashCount = \n",
    "        board\n",
    "        |> Array.map(fun row -> row |> Array.filter (fun k -> k = 0) |> Array.length)\n",
    "        |> Array.sum\n",
    "\n",
    "    if flashCount = w*h then\n",
    "        count\n",
    "    else \n",
    "        let newBoard = \n",
    "            board \n",
    "            |> afterFlash [for x in 0..w-1 do for y in 0..h-1 -> (x,y)]\n",
    "            |> Array.map (fun row -> row |> Array.map (fun k -> if k < 0 || k > 9 then 0 else k))\n",
    "        findFirstAllFlash newBoard (count+1)\n",
    "\n",
    "findFirstAllFlash input 0"
   ]
  }
 ],
 "metadata": {
  "kernelspec": {
   "display_name": ".NET (F#)",
   "language": "F#",
   "name": ".net-fsharp"
  },
  "language_info": {
   "name": "F#"
  }
 },
 "nbformat": 4,
 "nbformat_minor": 2
}
